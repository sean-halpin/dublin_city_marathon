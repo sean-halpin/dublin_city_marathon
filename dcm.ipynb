{
  "nbformat": 4,
  "nbformat_minor": 0,
  "metadata": {
    "colab": {
      "provenance": [],
      "authorship_tag": "ABX9TyO32DKAimAZaYlspMYTHUXV",
      "include_colab_link": true
    },
    "kernelspec": {
      "name": "python3",
      "display_name": "Python 3"
    },
    "language_info": {
      "name": "python"
    }
  },
  "cells": [
    {
      "cell_type": "markdown",
      "metadata": {
        "id": "view-in-github",
        "colab_type": "text"
      },
      "source": [
        "<a href=\"https://colab.research.google.com/github/sean-halpin/dublin_city_marathon/blob/main/dcm.ipynb\" target=\"_parent\"><img src=\"https://colab.research.google.com/assets/colab-badge.svg\" alt=\"Open In Colab\"/></a>"
      ]
    },
    {
      "cell_type": "code",
      "source": [
        "import requests "
      ],
      "metadata": {
        "id": "fQNgbQI4b7ql"
      },
      "execution_count": 4,
      "outputs": []
    },
    {
      "cell_type": "code",
      "source": [
        "from bs4 import BeautifulSoup\n",
        "import pandas as pd"
      ],
      "metadata": {
        "id": "dB9WgcljcKd6"
      },
      "execution_count": 11,
      "outputs": []
    },
    {
      "cell_type": "code",
      "source": [
        "df = pd.DataFrame(columns=['Race Number',\n",
        "'First Name',\n",
        "'Surname',\n",
        "'Gender',\n",
        "'Gender Position',\n",
        "'Category',\n",
        "'Category Position',\n",
        "'Club',\n",
        "'10K',\n",
        "'Stage Position',\n",
        "'20K',\n",
        "'Stage Position',\n",
        "'HALFWAY',\n",
        "'Stage Position',\n",
        "'30K',\n",
        "'Stage Position',\n",
        "'40K',\n",
        "'Stage Position',\n",
        "'Gun Time',\n",
        "'Overall Position',\n",
        "'Chip Time',\n",
        "'Chip Position',\n",
        "'YouTube',\n",
        "'Share'])"
      ],
      "metadata": {
        "id": "zKIKw_sQgUbv"
      },
      "execution_count": 25,
      "outputs": []
    },
    {
      "cell_type": "code",
      "source": [
        "# all_data=[]\n",
        "for page in range(1,152):\n",
        "  url = f\"https://www.tdleventservices.co.uk/event-results/events?event=3849&page={page}\"\n",
        "  print(url)\n",
        "  response= requests.get(url)\n",
        "  soup = BeautifulSoup(response.content,\"html.parser\")\n",
        "  table = soup.find('table', class_='table')\n",
        "  # Collecting Ddata\n",
        "  for row in table.tbody.find_all('tr'):    \n",
        "      # scraped_data = []\n",
        "      # Find all data for each column\n",
        "      columns = row.find_all('td')\n",
        "      \n",
        "      if(columns != []):\n",
        "        cleaned_row=[]\n",
        "        for c in columns:\n",
        "          cleaned_col = c.text.strip()\n",
        "          cleaned_row.append(cleaned_col)\n",
        "        # scraped_data.append(cleaned_row)\n",
        "        df.loc[len(df)] = cleaned_row\n",
        "      # all_data.append(scraped_data)"
      ],
      "metadata": {
        "id": "G2as9Ewjf0zq"
      },
      "execution_count": null,
      "outputs": []
    },
    {
      "cell_type": "code",
      "source": [
        "df.to_csv('dcm.csv', index = False)"
      ],
      "metadata": {
        "id": "FXH3inL8nayq"
      },
      "execution_count": 46,
      "outputs": []
    },
    {
      "cell_type": "code",
      "source": [
        "df = pd.read_csv('dcm.csv')"
      ],
      "metadata": {
        "id": "h8RRwHbAqDse"
      },
      "execution_count": 99,
      "outputs": []
    },
    {
      "cell_type": "code",
      "source": [
        "pd.set_option('display.max_columns', None)"
      ],
      "metadata": {
        "id": "q1a1fDr_sX-R"
      },
      "execution_count": 100,
      "outputs": []
    },
    {
      "cell_type": "code",
      "source": [
        "df.drop('Club', axis=1, inplace=True)\n",
        "df.drop('YouTube', axis=1, inplace=True)\n",
        "df.drop('Share', axis=1, inplace=True)"
      ],
      "metadata": {
        "id": "MfZko_6At1iw"
      },
      "execution_count": 101,
      "outputs": []
    },
    {
      "cell_type": "code",
      "source": [
        "print(df.info())"
      ],
      "metadata": {
        "colab": {
          "base_uri": "https://localhost:8080/"
        },
        "id": "9BHjcoLYqMU9",
        "outputId": "0e08bfda-babe-4ba7-8b93-4726fcfc6f0e"
      },
      "execution_count": 102,
      "outputs": [
        {
          "output_type": "stream",
          "name": "stdout",
          "text": [
            "<class 'pandas.core.frame.DataFrame'>\n",
            "RangeIndex: 15100 entries, 0 to 15099\n",
            "Data columns (total 21 columns):\n",
            " #   Column             Non-Null Count  Dtype \n",
            "---  ------             --------------  ----- \n",
            " 0   Race Number        15100 non-null  int64 \n",
            " 1   First Name         15100 non-null  object\n",
            " 2   Surname            15099 non-null  object\n",
            " 3   Gender             15100 non-null  object\n",
            " 4   Gender Position    15100 non-null  object\n",
            " 5   Category           15098 non-null  object\n",
            " 6   Category Position  15100 non-null  object\n",
            " 7   10K                14964 non-null  object\n",
            " 8   Stage Position     15100 non-null  object\n",
            " 9   20K                14965 non-null  object\n",
            " 10  Stage Position.1   15100 non-null  object\n",
            " 11  HALFWAY            14785 non-null  object\n",
            " 12  Stage Position.2   15100 non-null  object\n",
            " 13  30K                14786 non-null  object\n",
            " 14  Stage Position.3   15100 non-null  object\n",
            " 15  40K                14778 non-null  object\n",
            " 16  Stage Position.4   15100 non-null  object\n",
            " 17  Gun Time           15100 non-null  object\n",
            " 18  Overall Position   15100 non-null  object\n",
            " 19  Chip Time          14937 non-null  object\n",
            " 20  Chip Position      15100 non-null  object\n",
            "dtypes: int64(1), object(20)\n",
            "memory usage: 2.4+ MB\n",
            "None\n"
          ]
        }
      ]
    },
    {
      "cell_type": "code",
      "source": [
        "df.head()"
      ],
      "metadata": {
        "colab": {
          "base_uri": "https://localhost:8080/",
          "height": 288
        },
        "id": "dVPEfITTqK6t",
        "outputId": "6d53312d-7301-40b6-c83d-ca7244d7ae29"
      },
      "execution_count": 103,
      "outputs": [
        {
          "output_type": "execute_result",
          "data": {
            "text/plain": [
              "   Race Number First Name  Surname Gender Gender Position Category  \\\n",
              "0            2    Taoufik    Allam   Male               1       MS   \n",
              "1            5   Ashenafi     Boja   Male               2       MS   \n",
              "2            4    Birhanu  Teshome   Male               3       MS   \n",
              "3            7    Gelgelo   Outoya   Male               4       MS   \n",
              "4           21      Craig   Curley   Male               5       MS   \n",
              "\n",
              "  Category Position       10K Stage Position       20K Stage Position.1  \\\n",
              "0                 1  00:32:16              5  01:03:35                4   \n",
              "1                 2  00:32:16              3  01:03:34                2   \n",
              "2                 3  00:32:15              1  01:03:33                1   \n",
              "3                 4  00:32:16              4  01:03:34                3   \n",
              "4                 5  00:33:19             14  01:06:21               14   \n",
              "\n",
              "    HALFWAY Stage Position.2       30K Stage Position.3       40K  \\\n",
              "0  01:07:03                4  01:34:21                2  02:04:43   \n",
              "1  01:07:03                3  01:34:23                3  02:06:26   \n",
              "2  01:07:01                2  01:34:19                1  02:06:25   \n",
              "3  01:07:08                5  01:36:19                4  02:09:10   \n",
              "4  01:10:17               14  01:39:29                7  02:11:46   \n",
              "\n",
              "  Stage Position.4  Gun Time Overall Position Chip Time Chip Position  \n",
              "0                1  02:11:30                1  02:11:30             1  \n",
              "1                3  02:13:59                2  02:13:58             2  \n",
              "2                2  02:14:26                3  02:14:25             3  \n",
              "3                4  02:16:03                4  02:16:02             4  \n",
              "4                5  02:18:50                5  02:18:49             5  "
            ],
            "text/html": [
              "\n",
              "  <div id=\"df-f40b0e09-d374-4adc-91e2-ece437b61c0b\">\n",
              "    <div class=\"colab-df-container\">\n",
              "      <div>\n",
              "<style scoped>\n",
              "    .dataframe tbody tr th:only-of-type {\n",
              "        vertical-align: middle;\n",
              "    }\n",
              "\n",
              "    .dataframe tbody tr th {\n",
              "        vertical-align: top;\n",
              "    }\n",
              "\n",
              "    .dataframe thead th {\n",
              "        text-align: right;\n",
              "    }\n",
              "</style>\n",
              "<table border=\"1\" class=\"dataframe\">\n",
              "  <thead>\n",
              "    <tr style=\"text-align: right;\">\n",
              "      <th></th>\n",
              "      <th>Race Number</th>\n",
              "      <th>First Name</th>\n",
              "      <th>Surname</th>\n",
              "      <th>Gender</th>\n",
              "      <th>Gender Position</th>\n",
              "      <th>Category</th>\n",
              "      <th>Category Position</th>\n",
              "      <th>10K</th>\n",
              "      <th>Stage Position</th>\n",
              "      <th>20K</th>\n",
              "      <th>Stage Position.1</th>\n",
              "      <th>HALFWAY</th>\n",
              "      <th>Stage Position.2</th>\n",
              "      <th>30K</th>\n",
              "      <th>Stage Position.3</th>\n",
              "      <th>40K</th>\n",
              "      <th>Stage Position.4</th>\n",
              "      <th>Gun Time</th>\n",
              "      <th>Overall Position</th>\n",
              "      <th>Chip Time</th>\n",
              "      <th>Chip Position</th>\n",
              "    </tr>\n",
              "  </thead>\n",
              "  <tbody>\n",
              "    <tr>\n",
              "      <th>0</th>\n",
              "      <td>2</td>\n",
              "      <td>Taoufik</td>\n",
              "      <td>Allam</td>\n",
              "      <td>Male</td>\n",
              "      <td>1</td>\n",
              "      <td>MS</td>\n",
              "      <td>1</td>\n",
              "      <td>00:32:16</td>\n",
              "      <td>5</td>\n",
              "      <td>01:03:35</td>\n",
              "      <td>4</td>\n",
              "      <td>01:07:03</td>\n",
              "      <td>4</td>\n",
              "      <td>01:34:21</td>\n",
              "      <td>2</td>\n",
              "      <td>02:04:43</td>\n",
              "      <td>1</td>\n",
              "      <td>02:11:30</td>\n",
              "      <td>1</td>\n",
              "      <td>02:11:30</td>\n",
              "      <td>1</td>\n",
              "    </tr>\n",
              "    <tr>\n",
              "      <th>1</th>\n",
              "      <td>5</td>\n",
              "      <td>Ashenafi</td>\n",
              "      <td>Boja</td>\n",
              "      <td>Male</td>\n",
              "      <td>2</td>\n",
              "      <td>MS</td>\n",
              "      <td>2</td>\n",
              "      <td>00:32:16</td>\n",
              "      <td>3</td>\n",
              "      <td>01:03:34</td>\n",
              "      <td>2</td>\n",
              "      <td>01:07:03</td>\n",
              "      <td>3</td>\n",
              "      <td>01:34:23</td>\n",
              "      <td>3</td>\n",
              "      <td>02:06:26</td>\n",
              "      <td>3</td>\n",
              "      <td>02:13:59</td>\n",
              "      <td>2</td>\n",
              "      <td>02:13:58</td>\n",
              "      <td>2</td>\n",
              "    </tr>\n",
              "    <tr>\n",
              "      <th>2</th>\n",
              "      <td>4</td>\n",
              "      <td>Birhanu</td>\n",
              "      <td>Teshome</td>\n",
              "      <td>Male</td>\n",
              "      <td>3</td>\n",
              "      <td>MS</td>\n",
              "      <td>3</td>\n",
              "      <td>00:32:15</td>\n",
              "      <td>1</td>\n",
              "      <td>01:03:33</td>\n",
              "      <td>1</td>\n",
              "      <td>01:07:01</td>\n",
              "      <td>2</td>\n",
              "      <td>01:34:19</td>\n",
              "      <td>1</td>\n",
              "      <td>02:06:25</td>\n",
              "      <td>2</td>\n",
              "      <td>02:14:26</td>\n",
              "      <td>3</td>\n",
              "      <td>02:14:25</td>\n",
              "      <td>3</td>\n",
              "    </tr>\n",
              "    <tr>\n",
              "      <th>3</th>\n",
              "      <td>7</td>\n",
              "      <td>Gelgelo</td>\n",
              "      <td>Outoya</td>\n",
              "      <td>Male</td>\n",
              "      <td>4</td>\n",
              "      <td>MS</td>\n",
              "      <td>4</td>\n",
              "      <td>00:32:16</td>\n",
              "      <td>4</td>\n",
              "      <td>01:03:34</td>\n",
              "      <td>3</td>\n",
              "      <td>01:07:08</td>\n",
              "      <td>5</td>\n",
              "      <td>01:36:19</td>\n",
              "      <td>4</td>\n",
              "      <td>02:09:10</td>\n",
              "      <td>4</td>\n",
              "      <td>02:16:03</td>\n",
              "      <td>4</td>\n",
              "      <td>02:16:02</td>\n",
              "      <td>4</td>\n",
              "    </tr>\n",
              "    <tr>\n",
              "      <th>4</th>\n",
              "      <td>21</td>\n",
              "      <td>Craig</td>\n",
              "      <td>Curley</td>\n",
              "      <td>Male</td>\n",
              "      <td>5</td>\n",
              "      <td>MS</td>\n",
              "      <td>5</td>\n",
              "      <td>00:33:19</td>\n",
              "      <td>14</td>\n",
              "      <td>01:06:21</td>\n",
              "      <td>14</td>\n",
              "      <td>01:10:17</td>\n",
              "      <td>14</td>\n",
              "      <td>01:39:29</td>\n",
              "      <td>7</td>\n",
              "      <td>02:11:46</td>\n",
              "      <td>5</td>\n",
              "      <td>02:18:50</td>\n",
              "      <td>5</td>\n",
              "      <td>02:18:49</td>\n",
              "      <td>5</td>\n",
              "    </tr>\n",
              "  </tbody>\n",
              "</table>\n",
              "</div>\n",
              "      <button class=\"colab-df-convert\" onclick=\"convertToInteractive('df-f40b0e09-d374-4adc-91e2-ece437b61c0b')\"\n",
              "              title=\"Convert this dataframe to an interactive table.\"\n",
              "              style=\"display:none;\">\n",
              "        \n",
              "  <svg xmlns=\"http://www.w3.org/2000/svg\" height=\"24px\"viewBox=\"0 0 24 24\"\n",
              "       width=\"24px\">\n",
              "    <path d=\"M0 0h24v24H0V0z\" fill=\"none\"/>\n",
              "    <path d=\"M18.56 5.44l.94 2.06.94-2.06 2.06-.94-2.06-.94-.94-2.06-.94 2.06-2.06.94zm-11 1L8.5 8.5l.94-2.06 2.06-.94-2.06-.94L8.5 2.5l-.94 2.06-2.06.94zm10 10l.94 2.06.94-2.06 2.06-.94-2.06-.94-.94-2.06-.94 2.06-2.06.94z\"/><path d=\"M17.41 7.96l-1.37-1.37c-.4-.4-.92-.59-1.43-.59-.52 0-1.04.2-1.43.59L10.3 9.45l-7.72 7.72c-.78.78-.78 2.05 0 2.83L4 21.41c.39.39.9.59 1.41.59.51 0 1.02-.2 1.41-.59l7.78-7.78 2.81-2.81c.8-.78.8-2.07 0-2.86zM5.41 20L4 18.59l7.72-7.72 1.47 1.35L5.41 20z\"/>\n",
              "  </svg>\n",
              "      </button>\n",
              "      \n",
              "  <style>\n",
              "    .colab-df-container {\n",
              "      display:flex;\n",
              "      flex-wrap:wrap;\n",
              "      gap: 12px;\n",
              "    }\n",
              "\n",
              "    .colab-df-convert {\n",
              "      background-color: #E8F0FE;\n",
              "      border: none;\n",
              "      border-radius: 50%;\n",
              "      cursor: pointer;\n",
              "      display: none;\n",
              "      fill: #1967D2;\n",
              "      height: 32px;\n",
              "      padding: 0 0 0 0;\n",
              "      width: 32px;\n",
              "    }\n",
              "\n",
              "    .colab-df-convert:hover {\n",
              "      background-color: #E2EBFA;\n",
              "      box-shadow: 0px 1px 2px rgba(60, 64, 67, 0.3), 0px 1px 3px 1px rgba(60, 64, 67, 0.15);\n",
              "      fill: #174EA6;\n",
              "    }\n",
              "\n",
              "    [theme=dark] .colab-df-convert {\n",
              "      background-color: #3B4455;\n",
              "      fill: #D2E3FC;\n",
              "    }\n",
              "\n",
              "    [theme=dark] .colab-df-convert:hover {\n",
              "      background-color: #434B5C;\n",
              "      box-shadow: 0px 1px 3px 1px rgba(0, 0, 0, 0.15);\n",
              "      filter: drop-shadow(0px 1px 2px rgba(0, 0, 0, 0.3));\n",
              "      fill: #FFFFFF;\n",
              "    }\n",
              "  </style>\n",
              "\n",
              "      <script>\n",
              "        const buttonEl =\n",
              "          document.querySelector('#df-f40b0e09-d374-4adc-91e2-ece437b61c0b button.colab-df-convert');\n",
              "        buttonEl.style.display =\n",
              "          google.colab.kernel.accessAllowed ? 'block' : 'none';\n",
              "\n",
              "        async function convertToInteractive(key) {\n",
              "          const element = document.querySelector('#df-f40b0e09-d374-4adc-91e2-ece437b61c0b');\n",
              "          const dataTable =\n",
              "            await google.colab.kernel.invokeFunction('convertToInteractive',\n",
              "                                                     [key], {});\n",
              "          if (!dataTable) return;\n",
              "\n",
              "          const docLinkHtml = 'Like what you see? Visit the ' +\n",
              "            '<a target=\"_blank\" href=https://colab.research.google.com/notebooks/data_table.ipynb>data table notebook</a>'\n",
              "            + ' to learn more about interactive tables.';\n",
              "          element.innerHTML = '';\n",
              "          dataTable['output_type'] = 'display_data';\n",
              "          await google.colab.output.renderOutput(dataTable, element);\n",
              "          const docLink = document.createElement('div');\n",
              "          docLink.innerHTML = docLinkHtml;\n",
              "          element.appendChild(docLink);\n",
              "        }\n",
              "      </script>\n",
              "    </div>\n",
              "  </div>\n",
              "  "
            ]
          },
          "metadata": {},
          "execution_count": 103
        }
      ]
    },
    {
      "cell_type": "code",
      "source": [
        "print(df.shape)"
      ],
      "metadata": {
        "colab": {
          "base_uri": "https://localhost:8080/"
        },
        "id": "6QHiE0USveI4",
        "outputId": "79315e91-03e2-4181-ecf8-ee1945bb6970"
      },
      "execution_count": 104,
      "outputs": [
        {
          "output_type": "stream",
          "name": "stdout",
          "text": [
            "(15100, 21)\n"
          ]
        }
      ]
    },
    {
      "cell_type": "code",
      "source": [
        "df[\"Chip Time\"].value_counts()['DNF']"
      ],
      "metadata": {
        "colab": {
          "base_uri": "https://localhost:8080/"
        },
        "id": "3sSlRlPhvtaK",
        "outputId": "d6d91de5-4365-4d1c-e773-c761c8a47a1a"
      },
      "execution_count": 105,
      "outputs": [
        {
          "output_type": "execute_result",
          "data": {
            "text/plain": [
              "256"
            ]
          },
          "metadata": {},
          "execution_count": 105
        }
      ]
    },
    {
      "cell_type": "code",
      "source": [
        "df = df[df[\"Chip Time\"] != 'DNF']"
      ],
      "metadata": {
        "id": "stnOMI41v4-q"
      },
      "execution_count": 106,
      "outputs": []
    },
    {
      "cell_type": "code",
      "source": [
        "df.shape"
      ],
      "metadata": {
        "colab": {
          "base_uri": "https://localhost:8080/"
        },
        "id": "jHW-3g-pwh5k",
        "outputId": "b95783ba-1a65-45a4-90b6-cfdbb2aeeb70"
      },
      "execution_count": 107,
      "outputs": [
        {
          "output_type": "execute_result",
          "data": {
            "text/plain": [
              "(14844, 21)"
            ]
          },
          "metadata": {},
          "execution_count": 107
        }
      ]
    },
    {
      "cell_type": "code",
      "source": [
        "df['Gender'] = df['Gender'].astype('category')\n",
        "df['Gender Position']=df['Gender Position'].astype('int64')\n",
        "df['Category'] = df['Category'].astype('category')\n",
        "df['Category Position']=df['Category Position'].astype('int64')\n",
        "df['10K']=pd.to_timedelta(df['10K'])\n",
        "df['20K']=pd.to_timedelta(df['20K'])\n",
        "df['HALFWAY']=pd.to_timedelta(df['HALFWAY'])\n",
        "df['30K']=pd.to_timedelta(df['30K'])\n",
        "df['40K']=pd.to_timedelta(df['40K'])\n",
        "df['Gun Time']=pd.to_timedelta(df['Gun Time'])\n",
        "df['Chip Time']=pd.to_timedelta(df['Chip Time'])\n",
        "df['Stage Position']=df['Stage Position'].astype('int64')\n",
        "df['Stage Position.1']=df['Stage Position.1'].astype('int64')\n",
        "df['Stage Position.2']=df['Stage Position.2'].astype('int64')\n",
        "df['Stage Position.3']=df['Stage Position.3'].astype('int64')\n",
        "df['Stage Position.4']=df['Stage Position.4'].astype('int64')\n",
        "df['Overall Position']=df['Overall Position'].astype('int64')\n",
        "df['Chip Position']=df['Chip Position'].astype('int64')"
      ],
      "metadata": {
        "id": "u7aAZbCvrrpw"
      },
      "execution_count": 111,
      "outputs": []
    },
    {
      "cell_type": "code",
      "source": [
        "df.head()"
      ],
      "metadata": {
        "id": "W8MKZF0x1c1-",
        "outputId": "e4e5eab8-636e-49cd-93db-8510e9cf3c24",
        "colab": {
          "base_uri": "https://localhost:8080/",
          "height": 374
        }
      },
      "execution_count": 112,
      "outputs": [
        {
          "output_type": "execute_result",
          "data": {
            "text/plain": [
              "   Race Number First Name  Surname Gender  Gender Position Category  \\\n",
              "0            2    Taoufik    Allam   Male                1       MS   \n",
              "1            5   Ashenafi     Boja   Male                2       MS   \n",
              "2            4    Birhanu  Teshome   Male                3       MS   \n",
              "3            7    Gelgelo   Outoya   Male                4       MS   \n",
              "4           21      Craig   Curley   Male                5       MS   \n",
              "\n",
              "   Category Position             10K  Stage Position             20K  \\\n",
              "0                  1 0 days 00:32:16               5 0 days 01:03:35   \n",
              "1                  2 0 days 00:32:16               3 0 days 01:03:34   \n",
              "2                  3 0 days 00:32:15               1 0 days 01:03:33   \n",
              "3                  4 0 days 00:32:16               4 0 days 01:03:34   \n",
              "4                  5 0 days 00:33:19              14 0 days 01:06:21   \n",
              "\n",
              "   Stage Position.1         HALFWAY  Stage Position.2             30K  \\\n",
              "0                 4 0 days 01:07:03                 4 0 days 01:34:21   \n",
              "1                 2 0 days 01:07:03                 3 0 days 01:34:23   \n",
              "2                 1 0 days 01:07:01                 2 0 days 01:34:19   \n",
              "3                 3 0 days 01:07:08                 5 0 days 01:36:19   \n",
              "4                14 0 days 01:10:17                14 0 days 01:39:29   \n",
              "\n",
              "   Stage Position.3             40K  Stage Position.4        Gun Time  \\\n",
              "0                 2 0 days 02:04:43                 1 0 days 02:11:30   \n",
              "1                 3 0 days 02:06:26                 3 0 days 02:13:59   \n",
              "2                 1 0 days 02:06:25                 2 0 days 02:14:26   \n",
              "3                 4 0 days 02:09:10                 4 0 days 02:16:03   \n",
              "4                 7 0 days 02:11:46                 5 0 days 02:18:50   \n",
              "\n",
              "   Overall Position       Chip Time  Chip Position  \n",
              "0                 1 0 days 02:11:30              1  \n",
              "1                 2 0 days 02:13:58              2  \n",
              "2                 3 0 days 02:14:25              3  \n",
              "3                 4 0 days 02:16:02              4  \n",
              "4                 5 0 days 02:18:49              5  "
            ],
            "text/html": [
              "\n",
              "  <div id=\"df-c9bf3e12-5252-4bf7-8956-a930c747a689\">\n",
              "    <div class=\"colab-df-container\">\n",
              "      <div>\n",
              "<style scoped>\n",
              "    .dataframe tbody tr th:only-of-type {\n",
              "        vertical-align: middle;\n",
              "    }\n",
              "\n",
              "    .dataframe tbody tr th {\n",
              "        vertical-align: top;\n",
              "    }\n",
              "\n",
              "    .dataframe thead th {\n",
              "        text-align: right;\n",
              "    }\n",
              "</style>\n",
              "<table border=\"1\" class=\"dataframe\">\n",
              "  <thead>\n",
              "    <tr style=\"text-align: right;\">\n",
              "      <th></th>\n",
              "      <th>Race Number</th>\n",
              "      <th>First Name</th>\n",
              "      <th>Surname</th>\n",
              "      <th>Gender</th>\n",
              "      <th>Gender Position</th>\n",
              "      <th>Category</th>\n",
              "      <th>Category Position</th>\n",
              "      <th>10K</th>\n",
              "      <th>Stage Position</th>\n",
              "      <th>20K</th>\n",
              "      <th>Stage Position.1</th>\n",
              "      <th>HALFWAY</th>\n",
              "      <th>Stage Position.2</th>\n",
              "      <th>30K</th>\n",
              "      <th>Stage Position.3</th>\n",
              "      <th>40K</th>\n",
              "      <th>Stage Position.4</th>\n",
              "      <th>Gun Time</th>\n",
              "      <th>Overall Position</th>\n",
              "      <th>Chip Time</th>\n",
              "      <th>Chip Position</th>\n",
              "    </tr>\n",
              "  </thead>\n",
              "  <tbody>\n",
              "    <tr>\n",
              "      <th>0</th>\n",
              "      <td>2</td>\n",
              "      <td>Taoufik</td>\n",
              "      <td>Allam</td>\n",
              "      <td>Male</td>\n",
              "      <td>1</td>\n",
              "      <td>MS</td>\n",
              "      <td>1</td>\n",
              "      <td>0 days 00:32:16</td>\n",
              "      <td>5</td>\n",
              "      <td>0 days 01:03:35</td>\n",
              "      <td>4</td>\n",
              "      <td>0 days 01:07:03</td>\n",
              "      <td>4</td>\n",
              "      <td>0 days 01:34:21</td>\n",
              "      <td>2</td>\n",
              "      <td>0 days 02:04:43</td>\n",
              "      <td>1</td>\n",
              "      <td>0 days 02:11:30</td>\n",
              "      <td>1</td>\n",
              "      <td>0 days 02:11:30</td>\n",
              "      <td>1</td>\n",
              "    </tr>\n",
              "    <tr>\n",
              "      <th>1</th>\n",
              "      <td>5</td>\n",
              "      <td>Ashenafi</td>\n",
              "      <td>Boja</td>\n",
              "      <td>Male</td>\n",
              "      <td>2</td>\n",
              "      <td>MS</td>\n",
              "      <td>2</td>\n",
              "      <td>0 days 00:32:16</td>\n",
              "      <td>3</td>\n",
              "      <td>0 days 01:03:34</td>\n",
              "      <td>2</td>\n",
              "      <td>0 days 01:07:03</td>\n",
              "      <td>3</td>\n",
              "      <td>0 days 01:34:23</td>\n",
              "      <td>3</td>\n",
              "      <td>0 days 02:06:26</td>\n",
              "      <td>3</td>\n",
              "      <td>0 days 02:13:59</td>\n",
              "      <td>2</td>\n",
              "      <td>0 days 02:13:58</td>\n",
              "      <td>2</td>\n",
              "    </tr>\n",
              "    <tr>\n",
              "      <th>2</th>\n",
              "      <td>4</td>\n",
              "      <td>Birhanu</td>\n",
              "      <td>Teshome</td>\n",
              "      <td>Male</td>\n",
              "      <td>3</td>\n",
              "      <td>MS</td>\n",
              "      <td>3</td>\n",
              "      <td>0 days 00:32:15</td>\n",
              "      <td>1</td>\n",
              "      <td>0 days 01:03:33</td>\n",
              "      <td>1</td>\n",
              "      <td>0 days 01:07:01</td>\n",
              "      <td>2</td>\n",
              "      <td>0 days 01:34:19</td>\n",
              "      <td>1</td>\n",
              "      <td>0 days 02:06:25</td>\n",
              "      <td>2</td>\n",
              "      <td>0 days 02:14:26</td>\n",
              "      <td>3</td>\n",
              "      <td>0 days 02:14:25</td>\n",
              "      <td>3</td>\n",
              "    </tr>\n",
              "    <tr>\n",
              "      <th>3</th>\n",
              "      <td>7</td>\n",
              "      <td>Gelgelo</td>\n",
              "      <td>Outoya</td>\n",
              "      <td>Male</td>\n",
              "      <td>4</td>\n",
              "      <td>MS</td>\n",
              "      <td>4</td>\n",
              "      <td>0 days 00:32:16</td>\n",
              "      <td>4</td>\n",
              "      <td>0 days 01:03:34</td>\n",
              "      <td>3</td>\n",
              "      <td>0 days 01:07:08</td>\n",
              "      <td>5</td>\n",
              "      <td>0 days 01:36:19</td>\n",
              "      <td>4</td>\n",
              "      <td>0 days 02:09:10</td>\n",
              "      <td>4</td>\n",
              "      <td>0 days 02:16:03</td>\n",
              "      <td>4</td>\n",
              "      <td>0 days 02:16:02</td>\n",
              "      <td>4</td>\n",
              "    </tr>\n",
              "    <tr>\n",
              "      <th>4</th>\n",
              "      <td>21</td>\n",
              "      <td>Craig</td>\n",
              "      <td>Curley</td>\n",
              "      <td>Male</td>\n",
              "      <td>5</td>\n",
              "      <td>MS</td>\n",
              "      <td>5</td>\n",
              "      <td>0 days 00:33:19</td>\n",
              "      <td>14</td>\n",
              "      <td>0 days 01:06:21</td>\n",
              "      <td>14</td>\n",
              "      <td>0 days 01:10:17</td>\n",
              "      <td>14</td>\n",
              "      <td>0 days 01:39:29</td>\n",
              "      <td>7</td>\n",
              "      <td>0 days 02:11:46</td>\n",
              "      <td>5</td>\n",
              "      <td>0 days 02:18:50</td>\n",
              "      <td>5</td>\n",
              "      <td>0 days 02:18:49</td>\n",
              "      <td>5</td>\n",
              "    </tr>\n",
              "  </tbody>\n",
              "</table>\n",
              "</div>\n",
              "      <button class=\"colab-df-convert\" onclick=\"convertToInteractive('df-c9bf3e12-5252-4bf7-8956-a930c747a689')\"\n",
              "              title=\"Convert this dataframe to an interactive table.\"\n",
              "              style=\"display:none;\">\n",
              "        \n",
              "  <svg xmlns=\"http://www.w3.org/2000/svg\" height=\"24px\"viewBox=\"0 0 24 24\"\n",
              "       width=\"24px\">\n",
              "    <path d=\"M0 0h24v24H0V0z\" fill=\"none\"/>\n",
              "    <path d=\"M18.56 5.44l.94 2.06.94-2.06 2.06-.94-2.06-.94-.94-2.06-.94 2.06-2.06.94zm-11 1L8.5 8.5l.94-2.06 2.06-.94-2.06-.94L8.5 2.5l-.94 2.06-2.06.94zm10 10l.94 2.06.94-2.06 2.06-.94-2.06-.94-.94-2.06-.94 2.06-2.06.94z\"/><path d=\"M17.41 7.96l-1.37-1.37c-.4-.4-.92-.59-1.43-.59-.52 0-1.04.2-1.43.59L10.3 9.45l-7.72 7.72c-.78.78-.78 2.05 0 2.83L4 21.41c.39.39.9.59 1.41.59.51 0 1.02-.2 1.41-.59l7.78-7.78 2.81-2.81c.8-.78.8-2.07 0-2.86zM5.41 20L4 18.59l7.72-7.72 1.47 1.35L5.41 20z\"/>\n",
              "  </svg>\n",
              "      </button>\n",
              "      \n",
              "  <style>\n",
              "    .colab-df-container {\n",
              "      display:flex;\n",
              "      flex-wrap:wrap;\n",
              "      gap: 12px;\n",
              "    }\n",
              "\n",
              "    .colab-df-convert {\n",
              "      background-color: #E8F0FE;\n",
              "      border: none;\n",
              "      border-radius: 50%;\n",
              "      cursor: pointer;\n",
              "      display: none;\n",
              "      fill: #1967D2;\n",
              "      height: 32px;\n",
              "      padding: 0 0 0 0;\n",
              "      width: 32px;\n",
              "    }\n",
              "\n",
              "    .colab-df-convert:hover {\n",
              "      background-color: #E2EBFA;\n",
              "      box-shadow: 0px 1px 2px rgba(60, 64, 67, 0.3), 0px 1px 3px 1px rgba(60, 64, 67, 0.15);\n",
              "      fill: #174EA6;\n",
              "    }\n",
              "\n",
              "    [theme=dark] .colab-df-convert {\n",
              "      background-color: #3B4455;\n",
              "      fill: #D2E3FC;\n",
              "    }\n",
              "\n",
              "    [theme=dark] .colab-df-convert:hover {\n",
              "      background-color: #434B5C;\n",
              "      box-shadow: 0px 1px 3px 1px rgba(0, 0, 0, 0.15);\n",
              "      filter: drop-shadow(0px 1px 2px rgba(0, 0, 0, 0.3));\n",
              "      fill: #FFFFFF;\n",
              "    }\n",
              "  </style>\n",
              "\n",
              "      <script>\n",
              "        const buttonEl =\n",
              "          document.querySelector('#df-c9bf3e12-5252-4bf7-8956-a930c747a689 button.colab-df-convert');\n",
              "        buttonEl.style.display =\n",
              "          google.colab.kernel.accessAllowed ? 'block' : 'none';\n",
              "\n",
              "        async function convertToInteractive(key) {\n",
              "          const element = document.querySelector('#df-c9bf3e12-5252-4bf7-8956-a930c747a689');\n",
              "          const dataTable =\n",
              "            await google.colab.kernel.invokeFunction('convertToInteractive',\n",
              "                                                     [key], {});\n",
              "          if (!dataTable) return;\n",
              "\n",
              "          const docLinkHtml = 'Like what you see? Visit the ' +\n",
              "            '<a target=\"_blank\" href=https://colab.research.google.com/notebooks/data_table.ipynb>data table notebook</a>'\n",
              "            + ' to learn more about interactive tables.';\n",
              "          element.innerHTML = '';\n",
              "          dataTable['output_type'] = 'display_data';\n",
              "          await google.colab.output.renderOutput(dataTable, element);\n",
              "          const docLink = document.createElement('div');\n",
              "          docLink.innerHTML = docLinkHtml;\n",
              "          element.appendChild(docLink);\n",
              "        }\n",
              "      </script>\n",
              "    </div>\n",
              "  </div>\n",
              "  "
            ]
          },
          "metadata": {},
          "execution_count": 112
        }
      ]
    },
    {
      "cell_type": "code",
      "source": [
        "print(df.info())"
      ],
      "metadata": {
        "colab": {
          "base_uri": "https://localhost:8080/"
        },
        "id": "7EcLjPMPwj0q",
        "outputId": "d829ae1f-9b7b-4960-9a20-a4e647629ccc"
      },
      "execution_count": 113,
      "outputs": [
        {
          "output_type": "stream",
          "name": "stdout",
          "text": [
            "<class 'pandas.core.frame.DataFrame'>\n",
            "Int64Index: 14844 entries, 0 to 14843\n",
            "Data columns (total 21 columns):\n",
            " #   Column             Non-Null Count  Dtype          \n",
            "---  ------             --------------  -----          \n",
            " 0   Race Number        14844 non-null  int64          \n",
            " 1   First Name         14844 non-null  object         \n",
            " 2   Surname            14843 non-null  object         \n",
            " 3   Gender             14844 non-null  category       \n",
            " 4   Gender Position    14844 non-null  int64          \n",
            " 5   Category           14842 non-null  category       \n",
            " 6   Category Position  14844 non-null  int64          \n",
            " 7   10K                14726 non-null  timedelta64[ns]\n",
            " 8   Stage Position     14844 non-null  int64          \n",
            " 9   20K                14729 non-null  timedelta64[ns]\n",
            " 10  Stage Position.1   14844 non-null  int64          \n",
            " 11  HALFWAY            14576 non-null  timedelta64[ns]\n",
            " 12  Stage Position.2   14844 non-null  int64          \n",
            " 13  30K                14694 non-null  timedelta64[ns]\n",
            " 14  Stage Position.3   14844 non-null  int64          \n",
            " 15  40K                14742 non-null  timedelta64[ns]\n",
            " 16  Stage Position.4   14844 non-null  int64          \n",
            " 17  Gun Time           14844 non-null  timedelta64[ns]\n",
            " 18  Overall Position   14844 non-null  int64          \n",
            " 19  Chip Time          14681 non-null  timedelta64[ns]\n",
            " 20  Chip Position      14844 non-null  int64          \n",
            "dtypes: category(2), int64(10), object(2), timedelta64[ns](7)\n",
            "memory usage: 2.3+ MB\n",
            "None\n"
          ]
        }
      ]
    },
    {
      "cell_type": "code",
      "source": [
        "df[\"Gender\"].value_counts()"
      ],
      "metadata": {
        "id": "Td_fO4yn1Z6Z",
        "outputId": "b7527433-4aa3-4d2f-b328-1adf844c1630",
        "colab": {
          "base_uri": "https://localhost:8080/"
        }
      },
      "execution_count": 114,
      "outputs": [
        {
          "output_type": "execute_result",
          "data": {
            "text/plain": [
              "Male      10025\n",
              "Female     4819\n",
              "Name: Gender, dtype: int64"
            ]
          },
          "metadata": {},
          "execution_count": 114
        }
      ]
    },
    {
      "cell_type": "code",
      "source": [
        "df[\"Category\"].value_counts()"
      ],
      "metadata": {
        "id": "N0M6Mod52EQh",
        "outputId": "4caac622-2ea6-432a-ccf2-81ea831f27e3",
        "colab": {
          "base_uri": "https://localhost:8080/"
        }
      },
      "execution_count": 115,
      "outputs": [
        {
          "output_type": "execute_result",
          "data": {
            "text/plain": [
              "M40    2252\n",
              "M45    2073\n",
              "MS     1522\n",
              "M35    1504\n",
              "M50    1421\n",
              "F45    1105\n",
              "F40    1067\n",
              "M55     770\n",
              "FS      756\n",
              "F50     749\n",
              "F35     570\n",
              "F55     373\n",
              "M60     305\n",
              "F60     139\n",
              "M65     117\n",
              "M70      47\n",
              "F65      40\n",
              "F70      13\n",
              "M75       9\n",
              "F75       7\n",
              "M80       3\n",
              "Name: Category, dtype: int64"
            ]
          },
          "metadata": {},
          "execution_count": 115
        }
      ]
    },
    {
      "cell_type": "code",
      "source": [
        "chip_time_by_category = df.groupby(['Category'])['Chip Time'].mean()"
      ],
      "metadata": {
        "id": "EcbpDGmL2IO5"
      },
      "execution_count": 119,
      "outputs": []
    },
    {
      "cell_type": "code",
      "source": [
        "chip_time_by_category.sort_values()"
      ],
      "metadata": {
        "id": "ARcU-k3p4iR1",
        "outputId": "95df1470-64a0-4395-c312-aec8b868b332",
        "colab": {
          "base_uri": "https://localhost:8080/"
        }
      },
      "execution_count": 123,
      "outputs": [
        {
          "output_type": "execute_result",
          "data": {
            "text/plain": [
              "Category\n",
              "M40   0 days 03:58:21.433497536\n",
              "M35   0 days 04:00:23.115436241\n",
              "M45   0 days 04:03:27.178275694\n",
              "MS    0 days 04:04:35.193783068\n",
              "M50   0 days 04:15:10.526614620\n",
              "M55   0 days 04:24:34.124835742\n",
              "F35   0 days 04:29:36.177935943\n",
              "F40   0 days 04:29:49.144212523\n",
              "FS    0 days 04:29:58.130551816\n",
              "F45   0 days 04:33:22.109074243\n",
              "M60   0 days 04:40:47.516666666\n",
              "F50   0 days 04:46:21.830163043\n",
              "F55   0 days 05:00:11.498644986\n",
              "M65   0 days 05:02:50.956896551\n",
              "F60   0 days 05:15:36.110294117\n",
              "M70   0 days 05:26:42.872340425\n",
              "F65   0 days 05:34:24.447368421\n",
              "F70   0 days 05:35:06.818181818\n",
              "M75   0 days 05:51:34.333333333\n",
              "M80   0 days 06:12:49.333333333\n",
              "F75   0 days 06:22:12.166666666\n",
              "Name: Chip Time, dtype: timedelta64[ns]"
            ]
          },
          "metadata": {},
          "execution_count": 123
        }
      ]
    },
    {
      "cell_type": "code",
      "source": [],
      "metadata": {
        "id": "M47XgCSz5QCl"
      },
      "execution_count": null,
      "outputs": []
    }
  ]
}