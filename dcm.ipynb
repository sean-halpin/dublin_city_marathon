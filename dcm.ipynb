{
  "nbformat": 4,
  "nbformat_minor": 0,
  "metadata": {
    "colab": {
      "provenance": [],
      "authorship_tag": "ABX9TyOSDXRQd0307oG7E3dOKYBf",
      "include_colab_link": true
    },
    "kernelspec": {
      "name": "python3",
      "display_name": "Python 3"
    },
    "language_info": {
      "name": "python"
    }
  },
  "cells": [
    {
      "cell_type": "markdown",
      "metadata": {
        "id": "view-in-github",
        "colab_type": "text"
      },
      "source": [
        "<a href=\"https://colab.research.google.com/github/sean-halpin/dublin_city_marathon/blob/main/dcm.ipynb\" target=\"_parent\"><img src=\"https://colab.research.google.com/assets/colab-badge.svg\" alt=\"Open In Colab\"/></a>"
      ]
    },
    {
      "cell_type": "code",
      "source": [
        "import requests "
      ],
      "metadata": {
        "id": "fQNgbQI4b7ql"
      },
      "execution_count": 4,
      "outputs": []
    },
    {
      "cell_type": "code",
      "source": [
        "from bs4 import BeautifulSoup\n",
        "import pandas as pd"
      ],
      "metadata": {
        "id": "dB9WgcljcKd6"
      },
      "execution_count": 11,
      "outputs": []
    },
    {
      "cell_type": "code",
      "source": [
        "df = pd.DataFrame(columns=['Race Number',\n",
        "'First Name',\n",
        "'Surname',\n",
        "'Gender',\n",
        "'Gender Position',\n",
        "'Category',\n",
        "'Category Position',\n",
        "'Club',\n",
        "'10K',\n",
        "'Stage Position',\n",
        "'20K',\n",
        "'Stage Position',\n",
        "'HALFWAY',\n",
        "'Stage Position',\n",
        "'30K',\n",
        "'Stage Position',\n",
        "'40K',\n",
        "'Stage Position',\n",
        "'Gun Time',\n",
        "'Overall Position',\n",
        "'Chip Time',\n",
        "'Chip Position',\n",
        "'YouTube',\n",
        "'Share'])"
      ],
      "metadata": {
        "id": "zKIKw_sQgUbv"
      },
      "execution_count": 25,
      "outputs": []
    },
    {
      "cell_type": "code",
      "source": [
        "# all_data=[]\n",
        "for page in range(1,152):\n",
        "  url = f\"https://www.tdleventservices.co.uk/event-results/events?event=3849&page={page}\"\n",
        "  print(url)\n",
        "  response= requests.get(url)\n",
        "  soup = BeautifulSoup(response.content,\"html.parser\")\n",
        "  table = soup.find('table', class_='table')\n",
        "  # Collecting Ddata\n",
        "  for row in table.tbody.find_all('tr'):    \n",
        "      # scraped_data = []\n",
        "      # Find all data for each column\n",
        "      columns = row.find_all('td')\n",
        "      \n",
        "      if(columns != []):\n",
        "        cleaned_row=[]\n",
        "        for c in columns:\n",
        "          cleaned_col = c.text.strip()\n",
        "          cleaned_row.append(cleaned_col)\n",
        "        # scraped_data.append(cleaned_row)\n",
        "        df.loc[len(df)] = cleaned_row\n",
        "      # all_data.append(scraped_data)"
      ],
      "metadata": {
        "colab": {
          "base_uri": "https://localhost:8080/"
        },
        "id": "G2as9Ewjf0zq",
        "outputId": "78bb7ffb-21b4-49b2-e7b0-df6d1bf597ce"
      },
      "execution_count": 45,
      "outputs": [
        {
          "output_type": "stream",
          "name": "stdout",
          "text": [
            "https://www.tdleventservices.co.uk/event-results/events?event=3849&page=1\n",
            "https://www.tdleventservices.co.uk/event-results/events?event=3849&page=2\n",
            "https://www.tdleventservices.co.uk/event-results/events?event=3849&page=3\n",
            "https://www.tdleventservices.co.uk/event-results/events?event=3849&page=4\n",
            "https://www.tdleventservices.co.uk/event-results/events?event=3849&page=5\n",
            "https://www.tdleventservices.co.uk/event-results/events?event=3849&page=6\n",
            "https://www.tdleventservices.co.uk/event-results/events?event=3849&page=7\n",
            "https://www.tdleventservices.co.uk/event-results/events?event=3849&page=8\n",
            "https://www.tdleventservices.co.uk/event-results/events?event=3849&page=9\n",
            "https://www.tdleventservices.co.uk/event-results/events?event=3849&page=10\n",
            "https://www.tdleventservices.co.uk/event-results/events?event=3849&page=11\n",
            "https://www.tdleventservices.co.uk/event-results/events?event=3849&page=12\n",
            "https://www.tdleventservices.co.uk/event-results/events?event=3849&page=13\n",
            "https://www.tdleventservices.co.uk/event-results/events?event=3849&page=14\n",
            "https://www.tdleventservices.co.uk/event-results/events?event=3849&page=15\n",
            "https://www.tdleventservices.co.uk/event-results/events?event=3849&page=16\n",
            "https://www.tdleventservices.co.uk/event-results/events?event=3849&page=17\n",
            "https://www.tdleventservices.co.uk/event-results/events?event=3849&page=18\n",
            "https://www.tdleventservices.co.uk/event-results/events?event=3849&page=19\n",
            "https://www.tdleventservices.co.uk/event-results/events?event=3849&page=20\n",
            "https://www.tdleventservices.co.uk/event-results/events?event=3849&page=21\n",
            "https://www.tdleventservices.co.uk/event-results/events?event=3849&page=22\n",
            "https://www.tdleventservices.co.uk/event-results/events?event=3849&page=23\n",
            "https://www.tdleventservices.co.uk/event-results/events?event=3849&page=24\n",
            "https://www.tdleventservices.co.uk/event-results/events?event=3849&page=25\n",
            "https://www.tdleventservices.co.uk/event-results/events?event=3849&page=26\n",
            "https://www.tdleventservices.co.uk/event-results/events?event=3849&page=27\n",
            "https://www.tdleventservices.co.uk/event-results/events?event=3849&page=28\n",
            "https://www.tdleventservices.co.uk/event-results/events?event=3849&page=29\n",
            "https://www.tdleventservices.co.uk/event-results/events?event=3849&page=30\n",
            "https://www.tdleventservices.co.uk/event-results/events?event=3849&page=31\n",
            "https://www.tdleventservices.co.uk/event-results/events?event=3849&page=32\n",
            "https://www.tdleventservices.co.uk/event-results/events?event=3849&page=33\n",
            "https://www.tdleventservices.co.uk/event-results/events?event=3849&page=34\n",
            "https://www.tdleventservices.co.uk/event-results/events?event=3849&page=35\n",
            "https://www.tdleventservices.co.uk/event-results/events?event=3849&page=36\n",
            "https://www.tdleventservices.co.uk/event-results/events?event=3849&page=37\n",
            "https://www.tdleventservices.co.uk/event-results/events?event=3849&page=38\n",
            "https://www.tdleventservices.co.uk/event-results/events?event=3849&page=39\n",
            "https://www.tdleventservices.co.uk/event-results/events?event=3849&page=40\n",
            "https://www.tdleventservices.co.uk/event-results/events?event=3849&page=41\n",
            "https://www.tdleventservices.co.uk/event-results/events?event=3849&page=42\n",
            "https://www.tdleventservices.co.uk/event-results/events?event=3849&page=43\n",
            "https://www.tdleventservices.co.uk/event-results/events?event=3849&page=44\n",
            "https://www.tdleventservices.co.uk/event-results/events?event=3849&page=45\n",
            "https://www.tdleventservices.co.uk/event-results/events?event=3849&page=46\n",
            "https://www.tdleventservices.co.uk/event-results/events?event=3849&page=47\n",
            "https://www.tdleventservices.co.uk/event-results/events?event=3849&page=48\n",
            "https://www.tdleventservices.co.uk/event-results/events?event=3849&page=49\n",
            "https://www.tdleventservices.co.uk/event-results/events?event=3849&page=50\n",
            "https://www.tdleventservices.co.uk/event-results/events?event=3849&page=51\n",
            "https://www.tdleventservices.co.uk/event-results/events?event=3849&page=52\n",
            "https://www.tdleventservices.co.uk/event-results/events?event=3849&page=53\n",
            "https://www.tdleventservices.co.uk/event-results/events?event=3849&page=54\n",
            "https://www.tdleventservices.co.uk/event-results/events?event=3849&page=55\n",
            "https://www.tdleventservices.co.uk/event-results/events?event=3849&page=56\n",
            "https://www.tdleventservices.co.uk/event-results/events?event=3849&page=57\n",
            "https://www.tdleventservices.co.uk/event-results/events?event=3849&page=58\n",
            "https://www.tdleventservices.co.uk/event-results/events?event=3849&page=59\n",
            "https://www.tdleventservices.co.uk/event-results/events?event=3849&page=60\n",
            "https://www.tdleventservices.co.uk/event-results/events?event=3849&page=61\n",
            "https://www.tdleventservices.co.uk/event-results/events?event=3849&page=62\n",
            "https://www.tdleventservices.co.uk/event-results/events?event=3849&page=63\n",
            "https://www.tdleventservices.co.uk/event-results/events?event=3849&page=64\n",
            "https://www.tdleventservices.co.uk/event-results/events?event=3849&page=65\n",
            "https://www.tdleventservices.co.uk/event-results/events?event=3849&page=66\n",
            "https://www.tdleventservices.co.uk/event-results/events?event=3849&page=67\n",
            "https://www.tdleventservices.co.uk/event-results/events?event=3849&page=68\n",
            "https://www.tdleventservices.co.uk/event-results/events?event=3849&page=69\n",
            "https://www.tdleventservices.co.uk/event-results/events?event=3849&page=70\n",
            "https://www.tdleventservices.co.uk/event-results/events?event=3849&page=71\n",
            "https://www.tdleventservices.co.uk/event-results/events?event=3849&page=72\n",
            "https://www.tdleventservices.co.uk/event-results/events?event=3849&page=73\n",
            "https://www.tdleventservices.co.uk/event-results/events?event=3849&page=74\n",
            "https://www.tdleventservices.co.uk/event-results/events?event=3849&page=75\n",
            "https://www.tdleventservices.co.uk/event-results/events?event=3849&page=76\n",
            "https://www.tdleventservices.co.uk/event-results/events?event=3849&page=77\n",
            "https://www.tdleventservices.co.uk/event-results/events?event=3849&page=78\n",
            "https://www.tdleventservices.co.uk/event-results/events?event=3849&page=79\n",
            "https://www.tdleventservices.co.uk/event-results/events?event=3849&page=80\n",
            "https://www.tdleventservices.co.uk/event-results/events?event=3849&page=81\n",
            "https://www.tdleventservices.co.uk/event-results/events?event=3849&page=82\n",
            "https://www.tdleventservices.co.uk/event-results/events?event=3849&page=83\n",
            "https://www.tdleventservices.co.uk/event-results/events?event=3849&page=84\n",
            "https://www.tdleventservices.co.uk/event-results/events?event=3849&page=85\n",
            "https://www.tdleventservices.co.uk/event-results/events?event=3849&page=86\n",
            "https://www.tdleventservices.co.uk/event-results/events?event=3849&page=87\n",
            "https://www.tdleventservices.co.uk/event-results/events?event=3849&page=88\n",
            "https://www.tdleventservices.co.uk/event-results/events?event=3849&page=89\n",
            "https://www.tdleventservices.co.uk/event-results/events?event=3849&page=90\n",
            "https://www.tdleventservices.co.uk/event-results/events?event=3849&page=91\n",
            "https://www.tdleventservices.co.uk/event-results/events?event=3849&page=92\n",
            "https://www.tdleventservices.co.uk/event-results/events?event=3849&page=93\n",
            "https://www.tdleventservices.co.uk/event-results/events?event=3849&page=94\n",
            "https://www.tdleventservices.co.uk/event-results/events?event=3849&page=95\n",
            "https://www.tdleventservices.co.uk/event-results/events?event=3849&page=96\n",
            "https://www.tdleventservices.co.uk/event-results/events?event=3849&page=97\n",
            "https://www.tdleventservices.co.uk/event-results/events?event=3849&page=98\n",
            "https://www.tdleventservices.co.uk/event-results/events?event=3849&page=99\n",
            "https://www.tdleventservices.co.uk/event-results/events?event=3849&page=100\n",
            "https://www.tdleventservices.co.uk/event-results/events?event=3849&page=101\n",
            "https://www.tdleventservices.co.uk/event-results/events?event=3849&page=102\n",
            "https://www.tdleventservices.co.uk/event-results/events?event=3849&page=103\n",
            "https://www.tdleventservices.co.uk/event-results/events?event=3849&page=104\n",
            "https://www.tdleventservices.co.uk/event-results/events?event=3849&page=105\n",
            "https://www.tdleventservices.co.uk/event-results/events?event=3849&page=106\n",
            "https://www.tdleventservices.co.uk/event-results/events?event=3849&page=107\n",
            "https://www.tdleventservices.co.uk/event-results/events?event=3849&page=108\n",
            "https://www.tdleventservices.co.uk/event-results/events?event=3849&page=109\n",
            "https://www.tdleventservices.co.uk/event-results/events?event=3849&page=110\n",
            "https://www.tdleventservices.co.uk/event-results/events?event=3849&page=111\n",
            "https://www.tdleventservices.co.uk/event-results/events?event=3849&page=112\n",
            "https://www.tdleventservices.co.uk/event-results/events?event=3849&page=113\n",
            "https://www.tdleventservices.co.uk/event-results/events?event=3849&page=114\n",
            "https://www.tdleventservices.co.uk/event-results/events?event=3849&page=115\n",
            "https://www.tdleventservices.co.uk/event-results/events?event=3849&page=116\n",
            "https://www.tdleventservices.co.uk/event-results/events?event=3849&page=117\n",
            "https://www.tdleventservices.co.uk/event-results/events?event=3849&page=118\n",
            "https://www.tdleventservices.co.uk/event-results/events?event=3849&page=119\n",
            "https://www.tdleventservices.co.uk/event-results/events?event=3849&page=120\n",
            "https://www.tdleventservices.co.uk/event-results/events?event=3849&page=121\n",
            "https://www.tdleventservices.co.uk/event-results/events?event=3849&page=122\n",
            "https://www.tdleventservices.co.uk/event-results/events?event=3849&page=123\n",
            "https://www.tdleventservices.co.uk/event-results/events?event=3849&page=124\n",
            "https://www.tdleventservices.co.uk/event-results/events?event=3849&page=125\n",
            "https://www.tdleventservices.co.uk/event-results/events?event=3849&page=126\n",
            "https://www.tdleventservices.co.uk/event-results/events?event=3849&page=127\n",
            "https://www.tdleventservices.co.uk/event-results/events?event=3849&page=128\n",
            "https://www.tdleventservices.co.uk/event-results/events?event=3849&page=129\n",
            "https://www.tdleventservices.co.uk/event-results/events?event=3849&page=130\n",
            "https://www.tdleventservices.co.uk/event-results/events?event=3849&page=131\n",
            "https://www.tdleventservices.co.uk/event-results/events?event=3849&page=132\n",
            "https://www.tdleventservices.co.uk/event-results/events?event=3849&page=133\n",
            "https://www.tdleventservices.co.uk/event-results/events?event=3849&page=134\n",
            "https://www.tdleventservices.co.uk/event-results/events?event=3849&page=135\n",
            "https://www.tdleventservices.co.uk/event-results/events?event=3849&page=136\n",
            "https://www.tdleventservices.co.uk/event-results/events?event=3849&page=137\n",
            "https://www.tdleventservices.co.uk/event-results/events?event=3849&page=138\n",
            "https://www.tdleventservices.co.uk/event-results/events?event=3849&page=139\n",
            "https://www.tdleventservices.co.uk/event-results/events?event=3849&page=140\n",
            "https://www.tdleventservices.co.uk/event-results/events?event=3849&page=141\n",
            "https://www.tdleventservices.co.uk/event-results/events?event=3849&page=142\n",
            "https://www.tdleventservices.co.uk/event-results/events?event=3849&page=143\n",
            "https://www.tdleventservices.co.uk/event-results/events?event=3849&page=144\n",
            "https://www.tdleventservices.co.uk/event-results/events?event=3849&page=145\n",
            "https://www.tdleventservices.co.uk/event-results/events?event=3849&page=146\n",
            "https://www.tdleventservices.co.uk/event-results/events?event=3849&page=147\n",
            "https://www.tdleventservices.co.uk/event-results/events?event=3849&page=148\n",
            "https://www.tdleventservices.co.uk/event-results/events?event=3849&page=149\n",
            "https://www.tdleventservices.co.uk/event-results/events?event=3849&page=150\n",
            "https://www.tdleventservices.co.uk/event-results/events?event=3849&page=151\n"
          ]
        }
      ]
    },
    {
      "cell_type": "code",
      "source": [
        "df.to_csv('dcm.csv', index = False)"
      ],
      "metadata": {
        "id": "FXH3inL8nayq"
      },
      "execution_count": 46,
      "outputs": []
    },
    {
      "cell_type": "code",
      "source": [
        "df = pd.read_csv('dcm.csv')"
      ],
      "metadata": {
        "id": "h8RRwHbAqDse"
      },
      "execution_count": 76,
      "outputs": []
    },
    {
      "cell_type": "code",
      "source": [
        "pd.set_option('display.max_columns', None)"
      ],
      "metadata": {
        "id": "q1a1fDr_sX-R"
      },
      "execution_count": 77,
      "outputs": []
    },
    {
      "cell_type": "code",
      "source": [
        "# df['Gender'] = df['Gender'].astype('category')\n",
        "# df['Gender Position'].astype('int64')\n",
        "# df['Category'] = df['Category'].astype('category')\n",
        "# df['Category Position'].astype('int64')\n",
        "# df['10K']=df['10K'].astype('datetime64')\n",
        "# df['20K']=df['20K'].astype('datetime64')\n",
        "# df['HALFWAY']=df['HALFWAY'].astype('datetime64')\n",
        "# df['30K']=df['30K'].astype('datetime64')\n",
        "# df['40K']=df['40K'].astype('datetime64')\n",
        "# df['Gun Time'].astype('datetime64')\n",
        "# df['Chip Time'].astype('datetime64')\n",
        "# df['Stage Position'].astype('int64')\n",
        "# df['Stage Position.1'].astype('int64')\n",
        "# df['Stage Position.2'].astype('int64')\n",
        "# df['Stage Position.3'].astype('int64')\n",
        "# df['Stage Position.4'].astype('int64')\n",
        "# df['Overall Position'].astype('int64')\n",
        "# df['Chip Position'].astype('int64')"
      ],
      "metadata": {
        "id": "u7aAZbCvrrpw"
      },
      "execution_count": 78,
      "outputs": []
    },
    {
      "cell_type": "code",
      "source": [
        "df.drop('Club', axis=1, inplace=True)\n",
        "df.drop('YouTube', axis=1, inplace=True)\n",
        "df.drop('Share', axis=1, inplace=True)"
      ],
      "metadata": {
        "id": "MfZko_6At1iw"
      },
      "execution_count": 79,
      "outputs": []
    },
    {
      "cell_type": "code",
      "source": [
        "print(df.info())"
      ],
      "metadata": {
        "colab": {
          "base_uri": "https://localhost:8080/"
        },
        "id": "9BHjcoLYqMU9",
        "outputId": "46730289-21e0-4e6c-dc71-0efd622948b2"
      },
      "execution_count": 80,
      "outputs": [
        {
          "output_type": "stream",
          "name": "stdout",
          "text": [
            "<class 'pandas.core.frame.DataFrame'>\n",
            "RangeIndex: 15100 entries, 0 to 15099\n",
            "Data columns (total 21 columns):\n",
            " #   Column             Non-Null Count  Dtype \n",
            "---  ------             --------------  ----- \n",
            " 0   Race Number        15100 non-null  int64 \n",
            " 1   First Name         15100 non-null  object\n",
            " 2   Surname            15099 non-null  object\n",
            " 3   Gender             15100 non-null  object\n",
            " 4   Gender Position    15100 non-null  object\n",
            " 5   Category           15098 non-null  object\n",
            " 6   Category Position  15100 non-null  object\n",
            " 7   10K                14964 non-null  object\n",
            " 8   Stage Position     15100 non-null  object\n",
            " 9   20K                14965 non-null  object\n",
            " 10  Stage Position.1   15100 non-null  object\n",
            " 11  HALFWAY            14785 non-null  object\n",
            " 12  Stage Position.2   15100 non-null  object\n",
            " 13  30K                14786 non-null  object\n",
            " 14  Stage Position.3   15100 non-null  object\n",
            " 15  40K                14778 non-null  object\n",
            " 16  Stage Position.4   15100 non-null  object\n",
            " 17  Gun Time           15100 non-null  object\n",
            " 18  Overall Position   15100 non-null  object\n",
            " 19  Chip Time          14937 non-null  object\n",
            " 20  Chip Position      15100 non-null  object\n",
            "dtypes: int64(1), object(20)\n",
            "memory usage: 2.4+ MB\n",
            "None\n"
          ]
        }
      ]
    },
    {
      "cell_type": "code",
      "source": [
        "df.head()"
      ],
      "metadata": {
        "colab": {
          "base_uri": "https://localhost:8080/",
          "height": 288
        },
        "id": "dVPEfITTqK6t",
        "outputId": "c6dff9ea-4a6e-4f9e-da15-b4a8f9d2c3bd"
      },
      "execution_count": 81,
      "outputs": [
        {
          "output_type": "execute_result",
          "data": {
            "text/plain": [
              "   Race Number First Name  Surname Gender Gender Position Category  \\\n",
              "0            2    Taoufik    Allam   Male               1       MS   \n",
              "1            5   Ashenafi     Boja   Male               2       MS   \n",
              "2            4    Birhanu  Teshome   Male               3       MS   \n",
              "3            7    Gelgelo   Outoya   Male               4       MS   \n",
              "4           21      Craig   Curley   Male               5       MS   \n",
              "\n",
              "  Category Position       10K Stage Position       20K Stage Position.1  \\\n",
              "0                 1  00:32:16              5  01:03:35                4   \n",
              "1                 2  00:32:16              3  01:03:34                2   \n",
              "2                 3  00:32:15              1  01:03:33                1   \n",
              "3                 4  00:32:16              4  01:03:34                3   \n",
              "4                 5  00:33:19             14  01:06:21               14   \n",
              "\n",
              "    HALFWAY Stage Position.2       30K Stage Position.3       40K  \\\n",
              "0  01:07:03                4  01:34:21                2  02:04:43   \n",
              "1  01:07:03                3  01:34:23                3  02:06:26   \n",
              "2  01:07:01                2  01:34:19                1  02:06:25   \n",
              "3  01:07:08                5  01:36:19                4  02:09:10   \n",
              "4  01:10:17               14  01:39:29                7  02:11:46   \n",
              "\n",
              "  Stage Position.4  Gun Time Overall Position Chip Time Chip Position  \n",
              "0                1  02:11:30                1  02:11:30             1  \n",
              "1                3  02:13:59                2  02:13:58             2  \n",
              "2                2  02:14:26                3  02:14:25             3  \n",
              "3                4  02:16:03                4  02:16:02             4  \n",
              "4                5  02:18:50                5  02:18:49             5  "
            ],
            "text/html": [
              "\n",
              "  <div id=\"df-5bf272a8-1eb5-41c9-90c8-88a833b78830\">\n",
              "    <div class=\"colab-df-container\">\n",
              "      <div>\n",
              "<style scoped>\n",
              "    .dataframe tbody tr th:only-of-type {\n",
              "        vertical-align: middle;\n",
              "    }\n",
              "\n",
              "    .dataframe tbody tr th {\n",
              "        vertical-align: top;\n",
              "    }\n",
              "\n",
              "    .dataframe thead th {\n",
              "        text-align: right;\n",
              "    }\n",
              "</style>\n",
              "<table border=\"1\" class=\"dataframe\">\n",
              "  <thead>\n",
              "    <tr style=\"text-align: right;\">\n",
              "      <th></th>\n",
              "      <th>Race Number</th>\n",
              "      <th>First Name</th>\n",
              "      <th>Surname</th>\n",
              "      <th>Gender</th>\n",
              "      <th>Gender Position</th>\n",
              "      <th>Category</th>\n",
              "      <th>Category Position</th>\n",
              "      <th>10K</th>\n",
              "      <th>Stage Position</th>\n",
              "      <th>20K</th>\n",
              "      <th>Stage Position.1</th>\n",
              "      <th>HALFWAY</th>\n",
              "      <th>Stage Position.2</th>\n",
              "      <th>30K</th>\n",
              "      <th>Stage Position.3</th>\n",
              "      <th>40K</th>\n",
              "      <th>Stage Position.4</th>\n",
              "      <th>Gun Time</th>\n",
              "      <th>Overall Position</th>\n",
              "      <th>Chip Time</th>\n",
              "      <th>Chip Position</th>\n",
              "    </tr>\n",
              "  </thead>\n",
              "  <tbody>\n",
              "    <tr>\n",
              "      <th>0</th>\n",
              "      <td>2</td>\n",
              "      <td>Taoufik</td>\n",
              "      <td>Allam</td>\n",
              "      <td>Male</td>\n",
              "      <td>1</td>\n",
              "      <td>MS</td>\n",
              "      <td>1</td>\n",
              "      <td>00:32:16</td>\n",
              "      <td>5</td>\n",
              "      <td>01:03:35</td>\n",
              "      <td>4</td>\n",
              "      <td>01:07:03</td>\n",
              "      <td>4</td>\n",
              "      <td>01:34:21</td>\n",
              "      <td>2</td>\n",
              "      <td>02:04:43</td>\n",
              "      <td>1</td>\n",
              "      <td>02:11:30</td>\n",
              "      <td>1</td>\n",
              "      <td>02:11:30</td>\n",
              "      <td>1</td>\n",
              "    </tr>\n",
              "    <tr>\n",
              "      <th>1</th>\n",
              "      <td>5</td>\n",
              "      <td>Ashenafi</td>\n",
              "      <td>Boja</td>\n",
              "      <td>Male</td>\n",
              "      <td>2</td>\n",
              "      <td>MS</td>\n",
              "      <td>2</td>\n",
              "      <td>00:32:16</td>\n",
              "      <td>3</td>\n",
              "      <td>01:03:34</td>\n",
              "      <td>2</td>\n",
              "      <td>01:07:03</td>\n",
              "      <td>3</td>\n",
              "      <td>01:34:23</td>\n",
              "      <td>3</td>\n",
              "      <td>02:06:26</td>\n",
              "      <td>3</td>\n",
              "      <td>02:13:59</td>\n",
              "      <td>2</td>\n",
              "      <td>02:13:58</td>\n",
              "      <td>2</td>\n",
              "    </tr>\n",
              "    <tr>\n",
              "      <th>2</th>\n",
              "      <td>4</td>\n",
              "      <td>Birhanu</td>\n",
              "      <td>Teshome</td>\n",
              "      <td>Male</td>\n",
              "      <td>3</td>\n",
              "      <td>MS</td>\n",
              "      <td>3</td>\n",
              "      <td>00:32:15</td>\n",
              "      <td>1</td>\n",
              "      <td>01:03:33</td>\n",
              "      <td>1</td>\n",
              "      <td>01:07:01</td>\n",
              "      <td>2</td>\n",
              "      <td>01:34:19</td>\n",
              "      <td>1</td>\n",
              "      <td>02:06:25</td>\n",
              "      <td>2</td>\n",
              "      <td>02:14:26</td>\n",
              "      <td>3</td>\n",
              "      <td>02:14:25</td>\n",
              "      <td>3</td>\n",
              "    </tr>\n",
              "    <tr>\n",
              "      <th>3</th>\n",
              "      <td>7</td>\n",
              "      <td>Gelgelo</td>\n",
              "      <td>Outoya</td>\n",
              "      <td>Male</td>\n",
              "      <td>4</td>\n",
              "      <td>MS</td>\n",
              "      <td>4</td>\n",
              "      <td>00:32:16</td>\n",
              "      <td>4</td>\n",
              "      <td>01:03:34</td>\n",
              "      <td>3</td>\n",
              "      <td>01:07:08</td>\n",
              "      <td>5</td>\n",
              "      <td>01:36:19</td>\n",
              "      <td>4</td>\n",
              "      <td>02:09:10</td>\n",
              "      <td>4</td>\n",
              "      <td>02:16:03</td>\n",
              "      <td>4</td>\n",
              "      <td>02:16:02</td>\n",
              "      <td>4</td>\n",
              "    </tr>\n",
              "    <tr>\n",
              "      <th>4</th>\n",
              "      <td>21</td>\n",
              "      <td>Craig</td>\n",
              "      <td>Curley</td>\n",
              "      <td>Male</td>\n",
              "      <td>5</td>\n",
              "      <td>MS</td>\n",
              "      <td>5</td>\n",
              "      <td>00:33:19</td>\n",
              "      <td>14</td>\n",
              "      <td>01:06:21</td>\n",
              "      <td>14</td>\n",
              "      <td>01:10:17</td>\n",
              "      <td>14</td>\n",
              "      <td>01:39:29</td>\n",
              "      <td>7</td>\n",
              "      <td>02:11:46</td>\n",
              "      <td>5</td>\n",
              "      <td>02:18:50</td>\n",
              "      <td>5</td>\n",
              "      <td>02:18:49</td>\n",
              "      <td>5</td>\n",
              "    </tr>\n",
              "  </tbody>\n",
              "</table>\n",
              "</div>\n",
              "      <button class=\"colab-df-convert\" onclick=\"convertToInteractive('df-5bf272a8-1eb5-41c9-90c8-88a833b78830')\"\n",
              "              title=\"Convert this dataframe to an interactive table.\"\n",
              "              style=\"display:none;\">\n",
              "        \n",
              "  <svg xmlns=\"http://www.w3.org/2000/svg\" height=\"24px\"viewBox=\"0 0 24 24\"\n",
              "       width=\"24px\">\n",
              "    <path d=\"M0 0h24v24H0V0z\" fill=\"none\"/>\n",
              "    <path d=\"M18.56 5.44l.94 2.06.94-2.06 2.06-.94-2.06-.94-.94-2.06-.94 2.06-2.06.94zm-11 1L8.5 8.5l.94-2.06 2.06-.94-2.06-.94L8.5 2.5l-.94 2.06-2.06.94zm10 10l.94 2.06.94-2.06 2.06-.94-2.06-.94-.94-2.06-.94 2.06-2.06.94z\"/><path d=\"M17.41 7.96l-1.37-1.37c-.4-.4-.92-.59-1.43-.59-.52 0-1.04.2-1.43.59L10.3 9.45l-7.72 7.72c-.78.78-.78 2.05 0 2.83L4 21.41c.39.39.9.59 1.41.59.51 0 1.02-.2 1.41-.59l7.78-7.78 2.81-2.81c.8-.78.8-2.07 0-2.86zM5.41 20L4 18.59l7.72-7.72 1.47 1.35L5.41 20z\"/>\n",
              "  </svg>\n",
              "      </button>\n",
              "      \n",
              "  <style>\n",
              "    .colab-df-container {\n",
              "      display:flex;\n",
              "      flex-wrap:wrap;\n",
              "      gap: 12px;\n",
              "    }\n",
              "\n",
              "    .colab-df-convert {\n",
              "      background-color: #E8F0FE;\n",
              "      border: none;\n",
              "      border-radius: 50%;\n",
              "      cursor: pointer;\n",
              "      display: none;\n",
              "      fill: #1967D2;\n",
              "      height: 32px;\n",
              "      padding: 0 0 0 0;\n",
              "      width: 32px;\n",
              "    }\n",
              "\n",
              "    .colab-df-convert:hover {\n",
              "      background-color: #E2EBFA;\n",
              "      box-shadow: 0px 1px 2px rgba(60, 64, 67, 0.3), 0px 1px 3px 1px rgba(60, 64, 67, 0.15);\n",
              "      fill: #174EA6;\n",
              "    }\n",
              "\n",
              "    [theme=dark] .colab-df-convert {\n",
              "      background-color: #3B4455;\n",
              "      fill: #D2E3FC;\n",
              "    }\n",
              "\n",
              "    [theme=dark] .colab-df-convert:hover {\n",
              "      background-color: #434B5C;\n",
              "      box-shadow: 0px 1px 3px 1px rgba(0, 0, 0, 0.15);\n",
              "      filter: drop-shadow(0px 1px 2px rgba(0, 0, 0, 0.3));\n",
              "      fill: #FFFFFF;\n",
              "    }\n",
              "  </style>\n",
              "\n",
              "      <script>\n",
              "        const buttonEl =\n",
              "          document.querySelector('#df-5bf272a8-1eb5-41c9-90c8-88a833b78830 button.colab-df-convert');\n",
              "        buttonEl.style.display =\n",
              "          google.colab.kernel.accessAllowed ? 'block' : 'none';\n",
              "\n",
              "        async function convertToInteractive(key) {\n",
              "          const element = document.querySelector('#df-5bf272a8-1eb5-41c9-90c8-88a833b78830');\n",
              "          const dataTable =\n",
              "            await google.colab.kernel.invokeFunction('convertToInteractive',\n",
              "                                                     [key], {});\n",
              "          if (!dataTable) return;\n",
              "\n",
              "          const docLinkHtml = 'Like what you see? Visit the ' +\n",
              "            '<a target=\"_blank\" href=https://colab.research.google.com/notebooks/data_table.ipynb>data table notebook</a>'\n",
              "            + ' to learn more about interactive tables.';\n",
              "          element.innerHTML = '';\n",
              "          dataTable['output_type'] = 'display_data';\n",
              "          await google.colab.output.renderOutput(dataTable, element);\n",
              "          const docLink = document.createElement('div');\n",
              "          docLink.innerHTML = docLinkHtml;\n",
              "          element.appendChild(docLink);\n",
              "        }\n",
              "      </script>\n",
              "    </div>\n",
              "  </div>\n",
              "  "
            ]
          },
          "metadata": {},
          "execution_count": 81
        }
      ]
    },
    {
      "cell_type": "code",
      "source": [
        "print(df.shape)"
      ],
      "metadata": {
        "colab": {
          "base_uri": "https://localhost:8080/"
        },
        "id": "6QHiE0USveI4",
        "outputId": "2feaa5d2-d2bf-41e1-9bfb-02fb7beab790"
      },
      "execution_count": 82,
      "outputs": [
        {
          "output_type": "stream",
          "name": "stdout",
          "text": [
            "(15100, 21)\n"
          ]
        }
      ]
    },
    {
      "cell_type": "code",
      "source": [
        "df[\"Chip Time\"].value_counts()['DNF']"
      ],
      "metadata": {
        "colab": {
          "base_uri": "https://localhost:8080/"
        },
        "id": "3sSlRlPhvtaK",
        "outputId": "fd9d77c0-db52-458e-ad7f-bcb0dedb4ead"
      },
      "execution_count": 86,
      "outputs": [
        {
          "output_type": "execute_result",
          "data": {
            "text/plain": [
              "256"
            ]
          },
          "metadata": {},
          "execution_count": 86
        }
      ]
    },
    {
      "cell_type": "code",
      "source": [
        "df = df[df[\"Chip Time\"] != 'DNF']"
      ],
      "metadata": {
        "id": "stnOMI41v4-q"
      },
      "execution_count": 87,
      "outputs": []
    },
    {
      "cell_type": "code",
      "source": [
        "df.shape"
      ],
      "metadata": {
        "colab": {
          "base_uri": "https://localhost:8080/"
        },
        "id": "jHW-3g-pwh5k",
        "outputId": "6bd323f2-71d3-484c-c0fa-a7a643f89e74"
      },
      "execution_count": 88,
      "outputs": [
        {
          "output_type": "execute_result",
          "data": {
            "text/plain": [
              "(14844, 21)"
            ]
          },
          "metadata": {},
          "execution_count": 88
        }
      ]
    },
    {
      "cell_type": "code",
      "source": [],
      "metadata": {
        "id": "7EcLjPMPwj0q"
      },
      "execution_count": null,
      "outputs": []
    }
  ]
}